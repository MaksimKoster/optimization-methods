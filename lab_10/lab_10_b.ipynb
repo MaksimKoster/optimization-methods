{
 "cells": [
  {
   "cell_type": "markdown",
   "id": "b949ff34",
   "metadata": {},
   "source": [
    "# 9 вариант"
   ]
  },
  {
   "cell_type": "code",
   "execution_count": 5,
   "id": "23457394",
   "metadata": {},
   "outputs": [
    {
     "data": {
      "text/plain": [
       "grad_f (generic function with 1 method)"
      ]
     },
     "execution_count": 5,
     "metadata": {},
     "output_type": "execute_result"
    }
   ],
   "source": [
    "function f((x1, x2))\n",
    "    (x1 + 3*x2)^2 + (x2 + 5)^2\n",
    "end\n",
    "\n",
    "function grad_f((x1, x2))\n",
    "    return (2 * x1 + 6 * x2, 20 * x2 + 6 * x1 + 10)\n",
    "end"
   ]
  },
  {
   "cell_type": "code",
   "execution_count": 6,
   "id": "4f204fbc",
   "metadata": {},
   "outputs": [
    {
     "data": {
      "text/plain": [
       "0.35"
      ]
     },
     "execution_count": 6,
     "metadata": {},
     "output_type": "execute_result"
    }
   ],
   "source": [
    "x1_st = 10.0\n",
    "x2_st = 10.0\n",
    "eps = 0.35"
   ]
  },
  {
   "cell_type": "code",
   "execution_count": 7,
   "id": "c42a4c91",
   "metadata": {},
   "outputs": [
    {
     "name": "stdout",
     "output_type": "stream",
     "text": [
      "10.010.00.35\n"
     ]
    }
   ],
   "source": []
  },
  {
   "cell_type": "code",
   "execution_count": null,
   "id": "f2b42ca2",
   "metadata": {},
   "outputs": [],
   "source": []
  }
 ],
 "metadata": {
  "kernelspec": {
   "display_name": "Julia 1.8.5",
   "language": "julia",
   "name": "julia-1.8"
  },
  "language_info": {
   "file_extension": ".jl",
   "mimetype": "application/julia",
   "name": "julia",
   "version": "1.8.5"
  }
 },
 "nbformat": 4,
 "nbformat_minor": 5
}
