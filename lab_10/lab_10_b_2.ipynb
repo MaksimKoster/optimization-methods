{
 "cells": [
  {
   "cell_type": "markdown",
   "id": "0995d98a",
   "metadata": {},
   "source": [
    "# Метод оптимизации Нелдера — Мида"
   ]
  },
  {
   "cell_type": "code",
   "execution_count": 42,
   "id": "2076be6f",
   "metadata": {},
   "outputs": [],
   "source": [
    "arr = []"
   ]
  },
  {
   "cell_type": "code",
   "execution_count": 43,
   "id": "36bad08b",
   "metadata": {},
   "outputs": [],
   "source": [
    "class Vector(object):\n",
    "    def __init__(self, x, y):\n",
    "        self.x = x\n",
    "        self.y = y\n",
    "\n",
    "    def __repr__(self):\n",
    "        return \"({0}, {1})\".format(self.x, self.y)\n",
    "\n",
    "    def __add__(self, other):\n",
    "        x = self.x + other.x\n",
    "        y = self.y + other.y\n",
    "        return Vector(x, y)\n",
    "\n",
    "    def __sub__(self, other):\n",
    "        x = self.x - other.x\n",
    "        y = self.y - other.y\n",
    "        return Vector(x, y)\n",
    "\n",
    "    def __rmul__(self, other):\n",
    "        x = self.x * other\n",
    "        y = self.y * other\n",
    "        return Vector(x, y)\n",
    "\n",
    "    def __truediv__(self, other):\n",
    "        x = self.x / other\n",
    "        y = self.y / other\n",
    "        return Vector(x, y)\n",
    "\n",
    "    def c(self):\n",
    "        return (self.x, self.y)\n",
    "        \n",
    "# objective function\n",
    "def f(point):\n",
    "    x, y = point\n",
    "    return (1-x)**2 + 100*(y-x**x)**2"
   ]
  },
  {
   "cell_type": "code",
   "execution_count": 45,
   "id": "45b299f4",
   "metadata": {},
   "outputs": [],
   "source": [
    "def nelder_mead(alpha=1, beta=0.5, gamma=2, maxiter=30):\n",
    "    \n",
    "    v1 = Vector(10, 10)\n",
    "    v2 = Vector(5.0, 5.0)\n",
    "    v3 = Vector(0, 1.0)\n",
    "\n",
    "    for i in range(maxiter):\n",
    "        adict = {v1:f(v1.c()), v2:f(v2.c()), v3:f(v3.c())}\n",
    "        points = sorted(adict.items(), key=lambda x: x[1])\n",
    "        \n",
    "        b = points[0][0]\n",
    "        g = points[1][0]\n",
    "        w = points[2][0]\n",
    "        \n",
    "        \n",
    "        mid = (g + b)/2\n",
    "\n",
    "        # Отражение\n",
    "        xr = mid + alpha * (mid - w)\n",
    "        if f(xr.c()) < f(g.c()):\n",
    "            w = xr\n",
    "        else:\n",
    "            if f(xr.c()) < f(w.c()):\n",
    "                w = xr\n",
    "            c = (w + mid)/2\n",
    "            if f(c.c()) < f(w.c()):\n",
    "                w = c\n",
    "        if f(xr.c()) < f(b.c()):\n",
    "\n",
    "            # Растяжение\n",
    "            xe = mid + gamma * (xr - mid)\n",
    "            if f(xe.c()) < f(xr.c()):\n",
    "                w = xe\n",
    "            else:\n",
    "                w = xr\n",
    "        if f(xr.c()) > f(g.c()):\n",
    "            \n",
    "            # Сжатие\n",
    "            xc = mid + beta * (w - mid)\n",
    "            if f(xc.c()) < f(w.c()):\n",
    "                w = xc\n",
    "\n",
    "        v1 = w\n",
    "        v2 = g\n",
    "        v3 = b\n",
    "        \n",
    "        arr.append((v1,v2,v3))\n",
    "        \n",
    "        print(b)\n",
    "    return b"
   ]
  },
  {
   "cell_type": "code",
   "execution_count": 46,
   "id": "2bba85f2",
   "metadata": {},
   "outputs": [
    {
     "name": "stdout",
     "output_type": "stream",
     "text": [
      "Result of Nelder-Mead algorithm: \n",
      "(0, 1.0)\n"
     ]
    },
    {
     "ename": "TypeError",
     "evalue": "'<' not supported between instances of 'complex' and 'float'",
     "output_type": "error",
     "traceback": [
      "\u001b[0;31m---------------------------------------------------------------------------\u001b[0m",
      "\u001b[0;31mTypeError\u001b[0m                                 Traceback (most recent call last)",
      "\u001b[0;32m/var/folders/kt/h_6tstv95hgcl4yrq_lvll5m0000gn/T/ipykernel_45479/3265039206.py\u001b[0m in \u001b[0;36m<module>\u001b[0;34m\u001b[0m\n\u001b[1;32m      1\u001b[0m \u001b[0mprint\u001b[0m\u001b[0;34m(\u001b[0m\u001b[0;34m\"Result of Nelder-Mead algorithm: \"\u001b[0m\u001b[0;34m)\u001b[0m\u001b[0;34m\u001b[0m\u001b[0;34m\u001b[0m\u001b[0m\n\u001b[0;32m----> 2\u001b[0;31m \u001b[0mxk\u001b[0m \u001b[0;34m=\u001b[0m \u001b[0mnelder_mead\u001b[0m\u001b[0;34m(\u001b[0m\u001b[0;34m)\u001b[0m\u001b[0;34m\u001b[0m\u001b[0;34m\u001b[0m\u001b[0m\n\u001b[0m\u001b[1;32m      3\u001b[0m \u001b[0mprint\u001b[0m\u001b[0;34m(\u001b[0m\u001b[0;34m\"Best poits is: %s\"\u001b[0m\u001b[0;34m%\u001b[0m\u001b[0;34m(\u001b[0m\u001b[0mxk\u001b[0m\u001b[0;34m)\u001b[0m\u001b[0;34m)\u001b[0m\u001b[0;34m\u001b[0m\u001b[0;34m\u001b[0m\u001b[0m\n",
      "\u001b[0;32m/var/folders/kt/h_6tstv95hgcl4yrq_lvll5m0000gn/T/ipykernel_45479/3215318092.py\u001b[0m in \u001b[0;36mnelder_mead\u001b[0;34m(alpha, beta, gamma, maxiter)\u001b[0m\n\u001b[1;32m     24\u001b[0m                 \u001b[0mw\u001b[0m \u001b[0;34m=\u001b[0m \u001b[0mxr\u001b[0m\u001b[0;34m\u001b[0m\u001b[0;34m\u001b[0m\u001b[0m\n\u001b[1;32m     25\u001b[0m             \u001b[0mc\u001b[0m \u001b[0;34m=\u001b[0m \u001b[0;34m(\u001b[0m\u001b[0mw\u001b[0m \u001b[0;34m+\u001b[0m \u001b[0mmid\u001b[0m\u001b[0;34m)\u001b[0m\u001b[0;34m/\u001b[0m\u001b[0;36m2\u001b[0m\u001b[0;34m\u001b[0m\u001b[0;34m\u001b[0m\u001b[0m\n\u001b[0;32m---> 26\u001b[0;31m             \u001b[0;32mif\u001b[0m \u001b[0mf\u001b[0m\u001b[0;34m(\u001b[0m\u001b[0mc\u001b[0m\u001b[0;34m.\u001b[0m\u001b[0mc\u001b[0m\u001b[0;34m(\u001b[0m\u001b[0;34m)\u001b[0m\u001b[0;34m)\u001b[0m \u001b[0;34m<\u001b[0m \u001b[0mf\u001b[0m\u001b[0;34m(\u001b[0m\u001b[0mw\u001b[0m\u001b[0;34m.\u001b[0m\u001b[0mc\u001b[0m\u001b[0;34m(\u001b[0m\u001b[0;34m)\u001b[0m\u001b[0;34m)\u001b[0m\u001b[0;34m:\u001b[0m\u001b[0;34m\u001b[0m\u001b[0;34m\u001b[0m\u001b[0m\n\u001b[0m\u001b[1;32m     27\u001b[0m                 \u001b[0mw\u001b[0m \u001b[0;34m=\u001b[0m \u001b[0mc\u001b[0m\u001b[0;34m\u001b[0m\u001b[0;34m\u001b[0m\u001b[0m\n\u001b[1;32m     28\u001b[0m         \u001b[0;32mif\u001b[0m \u001b[0mf\u001b[0m\u001b[0;34m(\u001b[0m\u001b[0mxr\u001b[0m\u001b[0;34m.\u001b[0m\u001b[0mc\u001b[0m\u001b[0;34m(\u001b[0m\u001b[0;34m)\u001b[0m\u001b[0;34m)\u001b[0m \u001b[0;34m<\u001b[0m \u001b[0mf\u001b[0m\u001b[0;34m(\u001b[0m\u001b[0mb\u001b[0m\u001b[0;34m.\u001b[0m\u001b[0mc\u001b[0m\u001b[0;34m(\u001b[0m\u001b[0;34m)\u001b[0m\u001b[0;34m)\u001b[0m\u001b[0;34m:\u001b[0m\u001b[0;34m\u001b[0m\u001b[0;34m\u001b[0m\u001b[0m\n",
      "\u001b[0;31mTypeError\u001b[0m: '<' not supported between instances of 'complex' and 'float'"
     ]
    }
   ],
   "source": [
    "print(\"Result of Nelder-Mead algorithm: \")\n",
    "xk = nelder_mead()\n",
    "print(\"Best poits is: %s\"%(xk))"
   ]
  },
  {
   "cell_type": "code",
   "execution_count": 47,
   "id": "f36572f3",
   "metadata": {},
   "outputs": [
    {
     "data": {
      "image/png": "[encoded data removed]",
      "text/plain": [
       "<Figure size 640x480 with 1 Axes>"
      ]
     },
     "metadata": {},
     "output_type": "display_data"
    }
   ],
   "source": [
    "import matplotlib.pyplot as plt\n",
    "\n",
    "for elem in arr:\n",
    "    x = []\n",
    "    y = []\n",
    "    for test in elem:\n",
    "        x.append(test.x)\n",
    "        y.append(test.y)\n",
    "    \n",
    "    x.append(x[0])\n",
    "    y.append(y[0])\n",
    "    \n",
    "    plt.plot(x,y)\n",
    "    \n",
    "    x = []\n",
    "    y = []\n",
    "\n",
    "plt.show()"
   ]
  },
  {
   "cell_type": "code",
   "execution_count": null,
   "id": "c6096180",
   "metadata": {},
   "outputs": [],
   "source": []
  }
 ],
 "metadata": {
  "kernelspec": {
   "display_name": "Python 3 (ipykernel)",
   "language": "python",
   "name": "python3"
  },
  "language_info": {
   "codemirror_mode": {
    "name": "ipython",
    "version": 3
   },
   "file_extension": ".py",
   "mimetype": "text/x-python",
   "name": "python",
   "nbconvert_exporter": "python",
   "pygments_lexer": "ipython3",
   "version": "3.9.13"
  }
 },
 "nbformat": 4,
 "nbformat_minor": 5
}
