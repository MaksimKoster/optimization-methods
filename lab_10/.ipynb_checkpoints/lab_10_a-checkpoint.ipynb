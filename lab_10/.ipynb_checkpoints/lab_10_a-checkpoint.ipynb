{
 "cells": [
  {
   "cell_type": "code",
   "execution_count": 22,
   "id": "01e99e9a",
   "metadata": {},
   "outputs": [
    {
     "data": {
      "text/plain": [
       "grad_f (generic function with 1 method)"
      ]
     },
     "execution_count": 22,
     "metadata": {},
     "output_type": "execute_result"
    }
   ],
   "source": [
    "function f((x1, x2))\n",
    "    -1 .* sqrt.(100 - x1^2 - x2^2)\n",
    "end\n",
    "\n",
    "function grad_f((x1, x2))\n",
    "    return (x1/(sqrt.(100 - x1^2 - x2^2)), x2/(sqrt.(100 - x1^2 - x2^2)))\n",
    "end"
   ]
  },
  {
   "cell_type": "code",
   "execution_count": 23,
   "id": "b820d784",
   "metadata": {},
   "outputs": [
    {
     "data": {
      "text/plain": [
       "dichotomy (generic function with 1 method)"
      ]
     },
     "execution_count": 23,
     "metadata": {},
     "output_type": "execute_result"
    }
   ],
   "source": [
    "function g((x1k, x2k), a)\n",
    "    y1k, y2k = grad_f((x1k, x2k))\n",
    "    f((x1k + a * -y1k, x2k + a * -y2k))\n",
    "end\n",
    "\n",
    "function norm((x1, x2))\n",
    "    sqrt(x1^2 + x2^2)\n",
    "end\n",
    "\n",
    "function dichotomy((x1k, x2k), a, b, eps)\n",
    "    while true\n",
    "        c = (a + b) / 2\n",
    "        f0 = g((x1k, x2k), c) - g((x1k, x2k), c + eps)\n",
    "        if f0 >= 0\n",
    "            a = c\n",
    "        else\n",
    "            b = c\n",
    "        end\n",
    "        if b - a <= eps\n",
    "            return c\n",
    "        end\n",
    "    end\n",
    "end"
   ]
  },
  {
   "cell_type": "code",
   "execution_count": 24,
   "id": "06359677",
   "metadata": {},
   "outputs": [
    {
     "data": {
      "text/plain": [
       "fastest_desc (generic function with 1 method)"
      ]
     },
     "execution_count": 24,
     "metadata": {},
     "output_type": "execute_result"
    }
   ],
   "source": [
    "function fastest_desc(eps)\n",
    "    y_r = []\n",
    "    x_r = []\n",
    "    xk = (5, 5)\n",
    "    push!(x_r, xk)\n",
    "    yk = grad_f(xk)\n",
    "    k = 0\n",
    "    while true\n",
    "        a = dichotomy(xk, 0.00001, 10000, min(1/abs(66), 0.001))\n",
    "        xk = (xk[1] - a * yk[1], xk[2] - a * yk[2])\n",
    "        push!(y_r, ( - a * yk[1], - a * yk[2]))\n",
    "        yk = grad_f(xk)\n",
    "        push!(x_r, xk)\n",
    "        k = k + 1\n",
    "        if norm(grad_f(xk)) <= eps\n",
    "            return x_r, y_r, k\n",
    "        end\n",
    "    end\n",
    "end"
   ]
  },
  {
   "cell_type": "code",
   "execution_count": 25,
   "id": "c969c77a",
   "metadata": {},
   "outputs": [
    {
     "ename": "LoadError",
     "evalue": "UndefVarError: alpha not defined",
     "output_type": "error",
     "traceback": [
      "UndefVarError: alpha not defined",
      "",
      "Stacktrace:",
      " [1] fastest_desc(eps::Float64)",
      "   @ Main ./In[24]:9",
      " [2] top-level scope",
      "   @ In[25]:1"
     ]
    }
   ],
   "source": [
    "x_r, y_r = fastest_desc(0.01)\n",
    "\n",
    "using Gaston\n",
    "\n",
    "X1 = -1:0:1\n",
    "X2 = -1:0:1\n",
    "Z = [f((x2, x1)) for x1 in X1, x2 in X2]\n",
    "surf(X2, X1, Z, lc = :blue, w = :l)\n",
    "\n",
    "Z_P = [f(x) for x in x_r]\n",
    "surf!(first.(x_r), last.(x_r), Z_P, lc = :red)\n",
    "\n",
    "\n",
    "#plot(deleteat!(first.(x_r), length(x_r)), deleteat!(last.(x_r), length(x_r)), supp = [first.(y_r) last.(y_r)], w = :vectors)\n"
   ]
  },
  {
   "cell_type": "code",
   "execution_count": null,
   "id": "046f707d",
   "metadata": {},
   "outputs": [],
   "source": []
  }
 ],
 "metadata": {
  "kernelspec": {
   "display_name": "Julia 1.8.5",
   "language": "julia",
   "name": "julia-1.8"
  },
  "language_info": {
   "file_extension": ".jl",
   "mimetype": "application/julia",
   "name": "julia",
   "version": "1.8.5"
  }
 },
 "nbformat": 4,
 "nbformat_minor": 5
}
